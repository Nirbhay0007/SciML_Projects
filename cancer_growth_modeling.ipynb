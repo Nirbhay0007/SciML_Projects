{
 "cells": [
  {
   "cell_type": "markdown",
   "id": "32f99758",
   "metadata": {},
   "source": [
    "# Lets build a model them model the growth of cancer cell"
   ]
  },
  {
   "cell_type": "markdown",
   "id": "e89ac0a0",
   "metadata": {},
   "source": [
    "### using SCINTIFIC AND   COMPUTING  METHOD "
   ]
  },
  {
   "cell_type": "markdown",
   "id": "f9edc3b0",
   "metadata": {},
   "source": [
    "## 🧬 Gompertzian Model for Tumor Growth\n",
    "\n",
    "This model describes the growth dynamics of a tumor, often incorporating the effects of treatment.\n",
    "\n",
    "### A Simple ODE (Ordinary Differential Equation)\n",
    "\n",
    "The core equation for the model is:\n",
    "\n",
    "$$\n",
    "\\frac{dT}{dt} = r T \\ln\\left(\\frac{K}{T}\\right) - c(t)T\n",
    "$$\n",
    "\n",
    "---\n",
    "\n",
    "### Parameter Definitions\n",
    "\n",
    "Here is a breakdown of each component in the equation:\n",
    "\n",
    "* **$T(t)$ (Tumor Size)**\n",
    "    * **Represents:** The size of the tumor at a given time $t$.\n",
    "    * **Can be measured as:**\n",
    "        * Number of cancerous cells\n",
    "        * Tumor volume (e.g., in $mm^3$ or $cm^3$)\n",
    "        * Normalized fraction (e.g., a value between 0 and 1)\n",
    "\n",
    "* **$r$ (Tumor Growth Rate)**\n",
    "    * **Represents:** How fast the tumor grows, particularly when it is small.\n",
    "    * **Units:** Typically `per day` (or inverse time, $time^{-1}$).\n",
    "    * **Biological Influences:**\n",
    "        * Cell division rate\n",
    "        * Nutrient availability\n",
    "        * Angiogenesis (Blood Supply Formation)\n",
    "\n",
    "* **$K$ (Carrying Capacity)**\n",
    "    * **Represents:** The maximum tumor size that the surrounding environment can sustain.\n",
    "    * **Units:** Same units as $T(t)$ (e.g., volume, cell count, or normalized size).\n",
    "    * **Why growth stalls at this point:**\n",
    "        1.  Lack of nutrients\n",
    "        2.  Limited space\n",
    "        3.  Immune system pressure\n",
    "\n",
    "* **$c(t)$ (Chemotherapy-Induced Kill Rate)**\n",
    "    * **Represents:** The rate at which chemotherapy (or any anti-cancer intervention) kills tumor cells over time.\n",
    "    * **Function:** It reduces the growth of the tumor by introducing a negative pressure on the population of cancerous cells."
   ]
  },
  {
   "cell_type": "markdown",
   "id": "41781c6d",
   "metadata": {},
   "source": [
    "##### The taradiational deep learning model act as  block box and does not understand the mechanistic model behind the working of model"
   ]
  },
  {
   "cell_type": "markdown",
   "id": "15b5f5e4",
   "metadata": {},
   "source": [
    "# **WHY NOT TO BAKE THE KNOW PYSCICAL STRUCTURE WITH THE NEURAL NETWORK**"
   ]
  },
  {
   "cell_type": "markdown",
   "id": "75c3f4a1",
   "metadata": {},
   "source": [
    "## 🧠 Universal Differential Equations (UDE)\n",
    "\n",
    "This approach combines known scientific models with machine learning to create more powerful predictive tools.\n",
    "\n",
    "### The Hybrid Equation\n",
    "\n",
    "Instead of using unknown fixed parameters, we embed neural networks directly into the differential equation to learn the complex, unknown parts.\n",
    "\n",
    "$$\n",
    "\\frac{dT}{dt} = \\text{[Neural Network}_1\\text{]} \\cdot T \\cdot \\ln\\left(\\frac{\\text{[Neural Network}_2\\text{]}}{T}\\right) - c(t)T\n",
    "$$\n",
    "\n",
    "### Guiding Philosophy\n",
    "\n",
    "> Why should we throw our knowledge away?\n",
    ">\n",
    "> Here we leverage the **\"science\"** of tumor growth and **\"power\"** of ML.\n",
    "\n",
    "---\n",
    "\n",
    "### The Core Concept\n",
    "\n",
    "A Universal Differential Equation (UDE) is the fusion of these two fields:\n",
    "\n",
    "**Differential Equations** + **Neural Network** = **Universal Differential Equations**"
   ]
  },
  {
   "cell_type": "markdown",
   "id": "1723b607",
   "metadata": {},
   "source": [
    "## 🚀 The UDE Training Workflow: From Guess to Forecast\n",
    "\n",
    "This is the step-by-step \"engine\" that trains the model. It's a loop that connects the neural networks, the differential equation, and the real-world data.\n",
    "\n",
    "### 1. The \"Forward Pass\" ➡️: (Prediction & Simulation)\n",
    "\n",
    "This is where the model makes its *first guess*. It flows in this order:\n",
    "\n",
    "1.  **Input:** Start with the *current* known tumor size, $T$. (At the very beginning, this is the initial size $T_0$).\n",
    "2.  **NN Prediction:** You feed this $T$ into the two neural networks (NNs) *simultaneously*:\n",
    "    * `NN1` (with its current random \"knobs\") predicts a value for the growth rate $r$.\n",
    "    * `NN2` (with *its* current random \"knobs\") predicts a value for the carrying capacity $K$.\n",
    "3.  **Build the Equation:** These predicted values, $r_{pred}$ and $K_{pred}$, are plugged into the Gompertz equation. Now you have a *complete* equation with *specific numbers*:\n",
    "    $$\n",
    "    \\frac{dT}{dt} = r_{pred} \\cdot T \\cdot \\ln\\left(\\frac{K_{pred}}{T}\\right) - c(t)T\n",
    "    $$\n",
    "4.  **Numerical Analysis (Integration):** The equation above only gives you the *speed* ($\\frac{dT}{dt}$). To get the *size* over time, you must solve it. A computer does this using numerical integration.\n",
    "    * It starts at $T_0$.\n",
    "    * It uses the equation to find the speed.\n",
    "    * It takes a tiny step forward in time (e.g., 0.1 days) to predict the new size, $T_1$.\n",
    "    * It repeats this process (using $T_1$ to find the speed for $T_2$, etc.) until it has generated a **full predicted tumor size curve** ($T_{predicted}$) over all 50 days.\n",
    "\n",
    "---\n",
    "\n",
    "### 2. The \"Backward Pass\" ⬅️: (Calculating & Minimizing Loss)\n",
    "\n",
    "This is the \"learning\" part. The model compares its *guess* to the *reality*.\n",
    "\n",
    "5.  **Calculate Loss:** The model now compares its predicted curve ($T_{predicted}$) with the **actual data** ($T_{true}$). It uses a **Loss Function** (e.g., Mean Squared Error) to get a single number for how \"wrong\" it was.\n",
    "    * **Formula:** $\\text{Loss} = \\text{Average of } (T_{predicted} - T_{true})^2 \\text{ for all time points}$.\n",
    "    * A **high loss** means the guess was terrible.\n",
    "    * A **low loss** means the guess was good.\n",
    "\n",
    "6.  **Backpropagation (The \"Magic\"):** This is the core of \"minimizing the loss.\"\n",
    "    * The optimizer (like LBFGS) looks at the final `Loss` number.\n",
    "    * It calculates *how much* each individual \"knob\" (weight and bias) *inside* `NN1` and `NN2` contributed to that final error.\n",
    "    * It then **\"nudges\" all the knobs** in the direction that would have made the error smaller.\n",
    "\n",
    "---\n",
    "\n",
    "### 3. The Loop 🔁: (Repeat to Improve)\n",
    "\n",
    "7.  **Iterate:** The entire process (Steps 1-6) is one \"iteration\" or \"epoch.\" The model then **repeats this loop** hundreds or thousands of times.\n",
    "    * **Loop 2:** The NNs (with their newly nudged knobs) make a *slightly better* prediction for $r$ and $K$.\n",
    "    * **Loop 3:** The predicted curve $T_{predicted}$ is now *slightly closer* to the true data $T_{true}$.\n",
    "    * **Loop 4:** The `Loss` is *slightly smaller*.\n",
    "    * ...\n",
    "    * **Loop 50:** After many iterations, the NNs have \"learned\" to predict the *true* underlying $r$ and $K$ values. The predicted curve ($T_{predicted}$) will now almost perfectly overlap with the real data ($T_{true}$), and the `Loss` will be very close to zero.\n",
    "\n",
    "---\n",
    "\n",
    "### 🏁 The Result: A Trained Model\n",
    "\n",
    "You now have a fully trained UDE. The neural networks have \"discovered\" the hidden biological parameters ($r$ and $K$) for this specific tumor, just by looking at the size data."
   ]
  },
  {
   "cell_type": "markdown",
   "id": "622ba95c",
   "metadata": {},
   "source": []
  },
  {
   "cell_type": "markdown",
   "id": "346150bb",
   "metadata": {},
   "source": []
  }
 ],
 "metadata": {
  "kernelspec": {
   "display_name": "Julia 1.11.7",
   "language": "julia",
   "name": "julia-1.11"
  },
  "language_info": {
   "file_extension": ".jl",
   "mimetype": "application/julia",
   "name": "julia",
   "version": "1.11.7"
  }
 },
 "nbformat": 4,
 "nbformat_minor": 5
}
